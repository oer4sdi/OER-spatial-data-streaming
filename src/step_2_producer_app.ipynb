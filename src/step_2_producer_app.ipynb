{
 "cells": [
  {
   "cell_type": "markdown",
   "metadata": {},
   "source": [
    "# 3.3 Sending a PM2.5 data stream to the Kafka broker (Step-2)\n",
    "\n",
    "This Jupyter Notebook will be used as a producer application for our Kafka workflow. We will use the CSV file generated in the previous step and send each data record as a message to the kafka broker."
   ]
  },
  {
   "cell_type": "code",
   "execution_count": 1,
   "metadata": {},
   "outputs": [],
   "source": [
    "## Import Libraries\n",
    "import pandas as pd # to handle tabular data\n",
    "import json # to handle data operations in json format\n",
    "from confluent_kafka import Producer # Kafka producer library to enable streaming functionalities\n",
    "import socket # to get network properties for kafka communication"
   ]
  },
  {
   "cell_type": "code",
   "execution_count": 2,
   "metadata": {},
   "outputs": [],
   "source": [
    "def acked(err, msg):\n",
    "\n",
    "    '''\n",
    "    This function handles callback for Kafka Producer. It handles the error/success messages\n",
    "    '''\n",
    "    \n",
    "    if err is not None:\n",
    "        print(\"Failed to deliver message: %s: %s\" % (str(msg.value()), str(err)))\n",
    "    else:\n",
    "        print(\"Message produced: %s\" % (str(msg.value())))"
   ]
  },
  {
   "cell_type": "markdown",
   "metadata": {},
   "source": [
    "The next section runs in the following order:\n",
    "\n",
    "1. Initialise variables: CSV filepath and topic name\n",
    "2. Topic: Every Kafka message should be associated to a kafka topic, it can be named anything\n",
    "3. conf: Init Kafka server with IP:Port"
   ]
  },
  {
   "cell_type": "code",
   "execution_count": 3,
   "metadata": {},
   "outputs": [],
   "source": [
    "topic = \"pm25_stream\"\n",
    "p_key = \"../data/sample_multilocation.csv\"\n",
    "#p_key = \"Chunk2024\""
   ]
  },
  {
   "cell_type": "code",
   "execution_count": 4,
   "metadata": {},
   "outputs": [],
   "source": [
    "### START: AVOID MAKING CHANGES ###\n",
    "\n",
    "### This section defines how to connect to the Kafka server the configuration\n",
    "### of which is defined in the docker file. Changing this section including port numbers\n",
    "### or other variables can result in broken kafka connection and the data cannot be streamed then\n",
    "\n",
    "conf = {'bootstrap.servers': \"kafka:9093\", 'client.id': socket.gethostname()}\n",
    "producer = Producer(conf)\n",
    "\n",
    "### END: AVOID MAKING CHANGES ###"
   ]
  },
  {
   "cell_type": "code",
   "execution_count": 5,
   "metadata": {},
   "outputs": [],
   "source": [
    "# Read CSV using Pandas\n",
    "df = pd.read_csv(p_key)"
   ]
  },
  {
   "cell_type": "code",
   "execution_count": 6,
   "metadata": {},
   "outputs": [
    {
     "name": "stdout",
     "output_type": "stream",
     "text": [
      "Message produced: b'{\"11.232186012449652\": [51.96422, 7.645218, \"2024-01-14T11:00:00.000Z\", \"591f578c51d34600116a8ea5\"]}'\n",
      "Message produced: b'{\"4.779399926820344\": [51.96422, 7.645218, \"2024-01-15T12:00:00.000Z\", \"591f578c51d34600116a8ea5\"]}'\n",
      "Message produced: b'{\"6.492572264910355\": [51.96422, 7.645218, \"2024-01-16T13:00:00.000Z\", \"591f578c51d34600116a8ea5\"]}'\n",
      "Message produced: b'{\"9.893489392831016\": [51.96422, 7.645218, \"2024-01-17T14:00:00.000Z\", \"591f578c51d34600116a8ea5\"]}'\n",
      "Message produced: b'{\"10.07761680550525\": [51.96422, 7.645218, \"2024-01-18T15:00:00.000Z\", \"591f578c51d34600116a8ea5\"]}'\n",
      "Message produced: b'{\"16.394211287988423\": [51.96422, 7.645218, \"2024-01-19T16:00:00.000Z\", \"591f578c51d34600116a8ea5\"]}'\n",
      "Message produced: b'{\"5.122278481012659\": [51.96422, 7.645218, \"2024-01-20T17:00:00.000Z\", \"591f578c51d34600116a8ea5\"]}'\n",
      "Message produced: b'{\"31.14744842562432\": [51.96422, 7.645218, \"2024-01-21T18:00:00.000Z\", \"591f578c51d34600116a8ea5\"]}'\n",
      "Message produced: b'{\"25.8035414384812\": [51.96422, 7.645218, \"2024-01-22T19:00:00.000Z\", \"591f578c51d34600116a8ea5\"]}'\n",
      "Message produced: b'{\"6.17257203092059\": [51.903004, 7.635283, \"2024-01-14T11:00:00.000Z\", \"59ad958fd67eb50011b85f6d\"]}'\n",
      "Message produced: b'{\"6.771070422535211\": [51.903004, 7.635283, \"2024-01-15T12:00:00.000Z\", \"59ad958fd67eb50011b85f6d\"]}'\n",
      "Message produced: b'{\"6.322528089887641\": [51.903004, 7.635283, \"2024-01-16T13:00:00.000Z\", \"59ad958fd67eb50011b85f6d\"]}'\n",
      "Message produced: b'{\"6.889042627533193\": [51.903004, 7.635283, \"2024-01-17T14:00:00.000Z\", \"59ad958fd67eb50011b85f6d\"]}'\n",
      "Message produced: b'{\"5.788608573436402\": [51.903004, 7.635283, \"2024-01-18T15:00:00.000Z\", \"59ad958fd67eb50011b85f6d\"]}'\n",
      "Message produced: b'{\"6.451425576519916\": [51.903004, 7.635283, \"2024-01-19T16:00:00.000Z\", \"59ad958fd67eb50011b85f6d\"]}'\n",
      "Message produced: b'{\"6.219182960893855\": [51.903004, 7.635283, \"2024-01-20T17:00:00.000Z\", \"59ad958fd67eb50011b85f6d\"]}'\n",
      "Message produced: b'{\"6.883393981805459\": [51.903004, 7.635283, \"2024-01-21T18:00:00.000Z\", \"59ad958fd67eb50011b85f6d\"]}'\n",
      "Message produced: b'{\"5.1955104895104895\": [51.903004, 7.635283, \"2024-01-22T19:00:00.000Z\", \"59ad958fd67eb50011b85f6d\"]}'\n",
      "Message produced: b'{\"14.666755496335776\": [51.921065, 7.620606, \"2024-01-14T11:00:00.000Z\", \"5a0c347b9fd3c2001111b701\"]}'\n",
      "Message produced: b'{\"4.738866666666667\": [51.921065, 7.620606, \"2024-01-15T12:00:00.000Z\", \"5a0c347b9fd3c2001111b701\"]}'\n",
      "Message produced: b'{\"7.292323097463284\": [51.921065, 7.620606, \"2024-01-16T13:00:00.000Z\", \"5a0c347b9fd3c2001111b701\"]}'\n",
      "Message produced: b'{\"13.841066666666666\": [51.921065, 7.620606, \"2024-01-17T14:00:00.000Z\", \"5a0c347b9fd3c2001111b701\"]}'\n",
      "Message produced: b'{\"13.599133910726184\": [51.921065, 7.620606, \"2024-01-18T15:00:00.000Z\", \"5a0c347b9fd3c2001111b701\"]}'\n",
      "Message produced: b'{\"21.34417055296469\": [51.921065, 7.620606, \"2024-01-19T16:00:00.000Z\", \"5a0c347b9fd3c2001111b701\"]}'\n",
      "Message produced: b'{\"5.4109926715522985\": [51.921065, 7.620606, \"2024-01-20T17:00:00.000Z\", \"5a0c347b9fd3c2001111b701\"]}'\n",
      "Message produced: b'{\"3.8415333333333335\": [51.921065, 7.620606, \"2024-01-21T18:00:00.000Z\", \"5a0c347b9fd3c2001111b701\"]}'\n",
      "Message produced: b'{\"4.373351099267155\": [51.921065, 7.620606, \"2024-01-22T19:00:00.000Z\", \"5a0c347b9fd3c2001111b701\"]}'\n",
      "Message produced: b'{\"46.481807628524045\": [51.973023, 7.64153, \"2024-01-14T11:00:00.000Z\", \"5abd221b850005001b1aff35\"]}'\n",
      "Message produced: b'{\"46.36074750830564\": [51.973023, 7.64153, \"2024-01-15T12:00:00.000Z\", \"5abd221b850005001b1aff35\"]}'\n",
      "Message produced: b'{\"46.16074750830565\": [51.973023, 7.64153, \"2024-01-16T13:00:00.000Z\", \"5abd221b850005001b1aff35\"]}'\n",
      "Message produced: b'{\"46.1492880794702\": [51.973023, 7.64153, \"2024-01-17T14:00:00.000Z\", \"5abd221b850005001b1aff35\"]}'\n",
      "Message produced: b'{\"46.5863184079602\": [51.973023, 7.64153, \"2024-01-18T15:00:00.000Z\", \"5abd221b850005001b1aff35\"]}'\n",
      "Message produced: b'{\"46.44834162520729\": [51.973023, 7.64153, \"2024-01-19T16:00:00.000Z\", \"5abd221b850005001b1aff35\"]}'\n",
      "Message produced: b'{\"46.28269867549669\": [51.973023, 7.64153, \"2024-01-20T17:00:00.000Z\", \"5abd221b850005001b1aff35\"]}'\n",
      "Message produced: b'{\"46.84781818181818\": [51.973023, 7.64153, \"2024-01-21T18:00:00.000Z\", \"5abd221b850005001b1aff35\"]}'\n",
      "Message produced: b'{\"47.605456053068\": [51.973023, 7.64153, \"2024-01-22T19:00:00.000Z\", \"5abd221b850005001b1aff35\"]}'\n",
      "Message produced: b'{\"12.633539232053424\": [51.988501, 7.646677, \"2024-01-14T11:00:00.000Z\", \"5acfae2a223bd8001977b61e\"]}'\n",
      "Message produced: b'{\"4.562155887230514\": [51.988501, 7.646677, \"2024-01-15T12:00:00.000Z\", \"5acfae2a223bd8001977b61e\"]}'\n",
      "Message produced: b'{\"7.201378737541528\": [51.988501, 7.646677, \"2024-01-16T13:00:00.000Z\", \"5acfae2a223bd8001977b61e\"]}'\n",
      "Message produced: b'{\"12.900808580858088\": [51.988501, 7.646677, \"2024-01-17T14:00:00.000Z\", \"5acfae2a223bd8001977b61e\"]}'\n",
      "Message produced: b'{\"9.869766666666663\": [51.988501, 7.646677, \"2024-01-18T15:00:00.000Z\", \"5acfae2a223bd8001977b61e\"]}'\n",
      "Message produced: b'{\"20.387316666666667\": [51.988501, 7.646677, \"2024-01-19T16:00:00.000Z\", \"5acfae2a223bd8001977b61e\"]}'\n",
      "Message produced: b'{\"5.1116\": [51.988501, 7.646677, \"2024-01-20T17:00:00.000Z\", \"5acfae2a223bd8001977b61e\"]}'\n",
      "Message produced: b'{\"3.4693677204658906\": [51.988501, 7.646677, \"2024-01-21T18:00:00.000Z\", \"5acfae2a223bd8001977b61e\"]}'\n",
      "Message produced: b'{\"4.241819699499165\": [51.988501, 7.646677, \"2024-01-22T19:00:00.000Z\", \"5acfae2a223bd8001977b61e\"]}'\n",
      "Message produced: b'{\"0.3612751677852349\": [51.994149, 7.569078, \"2024-01-14T11:00:00.000Z\", \"5b3e7f6f5dc1ec001be11cf1\"]}'\n",
      "Message produced: b'{\"4.9717449664429525\": [51.994149, 7.569078, \"2024-01-15T12:00:00.000Z\", \"5b3e7f6f5dc1ec001be11cf1\"]}'\n",
      "Message produced: b'{\"9.935075376884422\": [51.994149, 7.569078, \"2024-01-16T13:00:00.000Z\", \"5b3e7f6f5dc1ec001be11cf1\"]}'\n",
      "Message produced: b'{\"16.766112956810634\": [51.994149, 7.569078, \"2024-01-17T14:00:00.000Z\", \"5b3e7f6f5dc1ec001be11cf1\"]}'\n",
      "Message produced: b'{\"14.775852842809362\": [51.994149, 7.569078, \"2024-01-18T15:00:00.000Z\", \"5b3e7f6f5dc1ec001be11cf1\"]}'\n",
      "Message produced: b'{\"32.42755\": [51.994149, 7.569078, \"2024-01-19T16:00:00.000Z\", \"5b3e7f6f5dc1ec001be11cf1\"]}'\n",
      "Message produced: b'{\"5.458820598006644\": [51.994149, 7.569078, \"2024-01-20T17:00:00.000Z\", \"5b3e7f6f5dc1ec001be11cf1\"]}'\n",
      "Message produced: b'{\"2.7803678929765887\": [51.994149, 7.569078, \"2024-01-21T18:00:00.000Z\", \"5b3e7f6f5dc1ec001be11cf1\"]}'\n",
      "Message produced: b'{\"4.9925210084033615\": [51.994149, 7.569078, \"2024-01-22T19:00:00.000Z\", \"5b3e7f6f5dc1ec001be11cf1\"]}'\n",
      "Message produced: b'{\"2.5803056027164684\": [52.520151, 13.369128, \"2024-01-14T11:00:00.000Z\", \"5d6e465a953683001a2b62c5\"]}'\n",
      "Message produced: b'{\"1.490569243840272\": [52.520151, 13.369128, \"2024-01-15T12:00:00.000Z\", \"5d6e465a953683001a2b62c5\"]}'\n",
      "Message produced: b'{\"3.41522842639594\": [52.520151, 13.369128, \"2024-01-16T13:00:00.000Z\", \"5d6e465a953683001a2b62c5\"]}'\n",
      "Message produced: b'{\"7.464606265876377\": [52.520151, 13.369128, \"2024-01-17T14:00:00.000Z\", \"5d6e465a953683001a2b62c5\"]}'\n",
      "Message produced: b'{\"4.292301184433164\": [52.520151, 13.369128, \"2024-01-18T15:00:00.000Z\", \"5d6e465a953683001a2b62c5\"]}'\n",
      "Message produced: b'{\"3.993660185967878\": [52.520151, 13.369128, \"2024-01-19T16:00:00.000Z\", \"5d6e465a953683001a2b62c5\"]}'\n",
      "Message produced: b'{\"3.1483079526226736\": [52.520151, 13.369128, \"2024-01-20T17:00:00.000Z\", \"5d6e465a953683001a2b62c5\"]}'\n",
      "Message produced: b'{\"1.5251269035532995\": [52.520151, 13.369128, \"2024-01-21T18:00:00.000Z\", \"5d6e465a953683001a2b62c5\"]}'\n",
      "Message produced: b'{\"1.3683898305084743\": [52.520151, 13.369128, \"2024-01-22T19:00:00.000Z\", \"5d6e465a953683001a2b62c5\"]}'\n",
      "Message produced: b'{\"4.480088495575221\": [51.954339, 7.631939, \"2024-01-14T11:00:00.000Z\", \"5d91f4bb5f3de0001ab6bb78\"]}'\n",
      "Message produced: b'{\"1.559265734265734\": [51.954339, 7.631939, \"2024-01-15T12:00:00.000Z\", \"5d91f4bb5f3de0001ab6bb78\"]}'\n",
      "Message produced: b'{\"2.930415944540728\": [51.954339, 7.631939, \"2024-01-16T13:00:00.000Z\", \"5d91f4bb5f3de0001ab6bb78\"]}'\n",
      "Message produced: b'{\"4.5219190140845065\": [51.954339, 7.631939, \"2024-01-17T14:00:00.000Z\", \"5d91f4bb5f3de0001ab6bb78\"]}'\n",
      "Message produced: b'{\"4.090633130962706\": [51.954339, 7.631939, \"2024-01-18T15:00:00.000Z\", \"5d91f4bb5f3de0001ab6bb78\"]}'\n",
      "Message produced: b'{\"7.503304347826086\": [51.954339, 7.631939, \"2024-01-19T16:00:00.000Z\", \"5d91f4bb5f3de0001ab6bb78\"]}'\n",
      "Message produced: b'{\"2.268526591107236\": [51.954339, 7.631939, \"2024-01-20T17:00:00.000Z\", \"5d91f4bb5f3de0001ab6bb78\"]}'\n",
      "Message produced: b'{\"1.6914359861591697\": [51.954339, 7.631939, \"2024-01-21T18:00:00.000Z\", \"5d91f4bb5f3de0001ab6bb78\"]}'\n",
      "Message produced: b'{\"2.2805841924398624\": [51.954339, 7.631939, \"2024-01-22T19:00:00.000Z\", \"5d91f4bb5f3de0001ab6bb78\"]}'\n",
      "Message produced: b'{\"9.29330357142857\": [51.993367, 7.543988, \"2024-01-15T12:00:00.000Z\", \"5e98843845f937001cf26c6d\"]}'\n",
      "Message produced: b'{\"12.921666666666663\": [51.993367, 7.543988, \"2024-01-16T13:00:00.000Z\", \"5e98843845f937001cf26c6d\"]}'\n",
      "Message produced: b'{\"25.924312590448626\": [51.993367, 7.543988, \"2024-01-17T14:00:00.000Z\", \"5e98843845f937001cf26c6d\"]}'\n",
      "Message produced: b'{\"18.76576980568012\": [51.993367, 7.543988, \"2024-01-18T15:00:00.000Z\", \"5e98843845f937001cf26c6d\"]}'\n",
      "Message produced: b'{\"9.632676767676768\": [51.910651, 7.723412, \"2024-01-14T11:00:00.000Z\", \"5f4542b8badf01001bd5cf24\"]}'\n",
      "Message produced: b'{\"3.5476061120543294\": [51.910651, 7.723412, \"2024-01-15T12:00:00.000Z\", \"5f4542b8badf01001bd5cf24\"]}'\n",
      "Message produced: b'{\"5.586973244147157\": [51.910651, 7.723412, \"2024-01-16T13:00:00.000Z\", \"5f4542b8badf01001bd5cf24\"]}'\n",
      "Message produced: b'{\"10.792201986754966\": [51.910651, 7.723412, \"2024-01-17T14:00:00.000Z\", \"5f4542b8badf01001bd5cf24\"]}'\n",
      "Message produced: b'{\"9.70495\": [51.910651, 7.723412, \"2024-01-18T15:00:00.000Z\", \"5f4542b8badf01001bd5cf24\"]}'\n",
      "Message produced: b'{\"14.195207296849086\": [51.910651, 7.723412, \"2024-01-19T16:00:00.000Z\", \"5f4542b8badf01001bd5cf24\"]}'\n",
      "Message produced: b'{\"3.7289\": [51.910651, 7.723412, \"2024-01-20T17:00:00.000Z\", \"5f4542b8badf01001bd5cf24\"]}'\n",
      "Message produced: b'{\"2.8076638655462185\": [51.910651, 7.723412, \"2024-01-21T18:00:00.000Z\", \"5f4542b8badf01001bd5cf24\"]}'\n",
      "Message produced: b'{\"3.2274376039933443\": [51.910651, 7.723412, \"2024-01-22T19:00:00.000Z\", \"5f4542b8badf01001bd5cf24\"]}'\n"
     ]
    }
   ],
   "source": [
    "# Init For Loop for number of records in CSV file\n",
    "for i in range(df.shape[0]): ## df.shape returns dimension of the dataframe (rows, columns)\n",
    "\n",
    "    result = {} ## Init Dict\n",
    "    result[df.loc[i,'value']] = [df.loc[i,'lat'], df.loc[i,'lon'], str(df.loc[i,'day']), df.loc[i,'boxId']]\n",
    "\n",
    "    '''\n",
    "    Format of result JSON:\n",
    "\n",
    "    {\n",
    "        'pm25_value_1': [lat, lon, day, boxId]\n",
    "    }\n",
    "    '''\n",
    "\n",
    "    # Store as JSON as Kafka supports JSON transmission as standard\n",
    "    result = json.dumps(result)\n",
    "    \n",
    "    ## Key is optional, used to categorize messages by partition, in this case all messages get the same partition name. \n",
    "    ## Is Mostly used for scalability \n",
    "\n",
    "    producer.produce(topic, key=p_key, value=result, callback=acked) ## Message is stored in broker memory at this point\n",
    "\n",
    "    ## Complete the sending of message from buffer (broker memory) and get an acknowledgement\n",
    "    producer.flush()"
   ]
  },
  {
   "cell_type": "markdown",
   "metadata": {},
   "source": [
    "# KAFKA Producer\n",
    "\n",
    "At this point you should have successfully streamed the downloaded data into the kafka broker where it is currently stored in a temporary file."
   ]
  },
  {
   "cell_type": "markdown",
   "metadata": {},
   "source": [
    "#### END STEP - 2"
   ]
  },
  {
   "cell_type": "code",
   "execution_count": null,
   "metadata": {},
   "outputs": [],
   "source": []
  }
 ],
 "metadata": {
  "kernelspec": {
   "display_name": "Python 3 (ipykernel)",
   "language": "python",
   "name": "python3"
  },
  "language_info": {
   "codemirror_mode": {
    "name": "ipython",
    "version": 3
   },
   "file_extension": ".py",
   "mimetype": "text/x-python",
   "name": "python",
   "nbconvert_exporter": "python",
   "pygments_lexer": "ipython3",
   "version": "3.9.5"
  }
 },
 "nbformat": 4,
 "nbformat_minor": 4
}
