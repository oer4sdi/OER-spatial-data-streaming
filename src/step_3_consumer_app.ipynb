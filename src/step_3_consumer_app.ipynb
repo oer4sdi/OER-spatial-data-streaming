{
 "cells": [
  {
   "cell_type": "markdown",
   "metadata": {},
   "source": [
    "# 3.4 Analyzing and visualizing PM2.5 data streams (Step-3)\n",
    "\n",
    "This Jupyter notebook represents a **Kafka consumer** that analyses the data stream generated in the previous step. \n",
    "After initializing the Kafka consumer we will perform two types of analysis:\n",
    "\n",
    "-  **Event Detection:** We'll detect events where the 3-day average value of PM2.5 concentrations for a location exceeds the critical value of 20.0 (event of interest). As soon as the event is detected we'll invoke a warning action.\n",
    "\n",
    "-  **Monitoring:** We'll create a map that informs us about the location and the current status (active, not active) of sensors.\n",
    "\n",
    "\n"
   ]
  },
  {
   "cell_type": "code",
   "execution_count": 1,
   "metadata": {},
   "outputs": [],
   "source": [
    "## Import Libraries\n",
    "\n",
    "import warnings ## ignore warnings that might be shown due to older python libraries\n",
    "warnings.filterwarnings('ignore') \n",
    "\n",
    "import geopandas as gpd # to read files with spatial information like raster or vector\n",
    "import json, math # handle json and mathematical operations\n",
    "import numpy as np # handle matrix type operations and manipulation on numerical data\n",
    "import geojson # handle json files with spatial information \n",
    "import pandas as pd # handle tabular data\n",
    "import sys # output error messages\n",
    "import time # provides time related functions\n",
    "import socket #  to get network properties for kafka communication\n",
    "from confluent_kafka import Consumer, KafkaError, KafkaException # Kafka library for kafka consumer components\n",
    "\n",
    "from ipyleaflet import Map, basemaps, WidgetControl, Marker, basemap_to_tiles, DrawControl, GeoJSON, MarkerCluster, AwesomeIcon # widget to enable map interactions\n",
    "from ipywidgets import IntSlider, ColorPicker, jslink # widget to enable map interactions"
   ]
  },
  {
   "cell_type": "markdown",
   "metadata": {},
   "source": [
    "## 3.4.1 Define and Initialize the Kafka Consumer "
   ]
  },
  {
   "cell_type": "code",
   "execution_count": 2,
   "metadata": {},
   "outputs": [],
   "source": [
    "### START: AVOID MAKING CHANGES ###\n",
    "\n",
    "'''\n",
    "Offset decides in what order to consume the message. \"smallest\" means read the first message that was sent at 1st position and then the others.\n",
    "\"largest\" will mean to read the most 'recent' message in 1st position and then others in the same order\n",
    "'''\n",
    "\n",
    "conf = {'bootstrap.servers': 'kafka:9093',\n",
    "        'default.topic.config': {'auto.offset.reset': 'smallest'},\n",
    "        'group.id': socket.gethostname()}\n",
    "\n",
    "### END: AVOID MAKING CHANGES ###"
   ]
  },
  {
   "cell_type": "code",
   "execution_count": 3,
   "metadata": {},
   "outputs": [],
   "source": [
    "## Set topic name as defined in file: step_2_producer.ipynb\n",
    "topic = \"pm25_stream\"\n",
    "\n",
    "## Kafka streamed data will be stored here\n",
    "#df = pd.DataFrame(columns=['lat','lon','value','day','boxId'])\n",
    "df = pd.DataFrame(columns=['lat','lon','day','value','boxId'])"
   ]
  },
  {
   "cell_type": "code",
   "execution_count": 4,
   "metadata": {},
   "outputs": [],
   "source": [
    "## Initialize the consumer and subscribe to the topic\n",
    "\n",
    "consumer = Consumer(conf)\n",
    "consumer.subscribe([topic])\n",
    "\n",
    "running = True"
   ]
  },
  {
   "cell_type": "markdown",
   "metadata": {},
   "source": [
    "## 3.4.2 Event Detection"
   ]
  },
  {
   "cell_type": "markdown",
   "metadata": {},
   "source": [
    "a) Define functions that will be used for real-time processing of sensor data"
   ]
  },
  {
   "cell_type": "code",
   "execution_count": 5,
   "metadata": {},
   "outputs": [],
   "source": [
    "\n",
    "def warning_action(sensebox, timestamp, pm_3d_average):\n",
    "\n",
    "    '''\n",
    "    This function defines what actions should be performed when the PM 2.5 levels have exceeded the defined threshold above\n",
    "    In this case we are simply printing a message\n",
    "    '''\n",
    "    \n",
    "    notification = str(sensebox)+\" : \"+str(timestamp)+\" : !!! WARNING !!! PM 2.5 three-day average (\"+str(pm_3d_average)+\") exceeds critical value\"\n",
    "    print(notification)\n",
    "\n",
    "    '''\n",
    "    You can insert an email trigger script after this comment\n",
    "    '''\n",
    "    \n",
    "def event_filter(df):\n",
    "    \n",
    "    '''\n",
    "    Function to handle events in real-time. This function is used to define the operations that should be \n",
    "    triggered for every data point that is received by the consumer.\n",
    "    '''\n",
    "    \n",
    "    try:\n",
    "                \n",
    "        ## Get rolling average of pm value by lat/lon over last 3 days\n",
    "        rolling_average = df.groupby(['lat','lon']).rolling(3)['value'].mean().reset_index()\n",
    "        rolling_average.dropna(inplace=True)\n",
    "        \n",
    "        current_lat = df.iloc[df.shape[0] - 1,:].lat\n",
    "        current_lon = df.iloc[df.shape[0] - 1,:].lon\n",
    "        current_value = df.iloc[df.shape[0] - 1,:].value\n",
    "        \n",
    "        ## Get the rolling average value for each unique lat/lon. This is required because the stream has data for multiple locations\n",
    "        rolling_average_index = rolling_average[(rolling_average['lat'] == current_lat) & (rolling_average['lon'] == current_lon)].index[-1]\n",
    "        \n",
    "        ## Get the details for the pm value, time and senseboxid for the current lat/lon that was received\n",
    "        pm_3d_average = rolling_average.loc[rolling_average_index, 'value']\n",
    "        timestamp = df.iloc[df.shape[0] - 1,:]['day']\n",
    "        sensebox = df.iloc[df.shape[0] - 1,:]['boxId']\n",
    "            \n",
    "        ## Fiter events\n",
    "        if pm_3d_average > 20.0 : # three day average exeeds critial value of 20\n",
    "    \n",
    "            ## Trigger action\n",
    "            warning_action(sensebox, timestamp, round(pm_3d_average,2))    \n",
    "        \n",
    "        else:\n",
    "            \n",
    "            ## PM value is ok\n",
    "            print(str(sensebox)+\" : \"+str(timestamp)+\" : PM 2.5 value (\"+ str(round(current_value,2)) +\") is ok\")\n",
    "\n",
    "    except:\n",
    "\n",
    "        ## In the begining when the consumer has just started there isn't enough data points to calculate rolling average for 3 days,\n",
    "        ## hence, this logic will fail in the initial 2 iterations and can be simply handled by a try-catch section\n",
    "        \n",
    "        pass # do nothing and continue"
   ]
  },
  {
   "cell_type": "markdown",
   "metadata": {},
   "source": [
    "b) Poll and process sensor data messages "
   ]
  },
  {
   "cell_type": "code",
   "execution_count": 6,
   "metadata": {},
   "outputs": [
    {
     "name": "stdout",
     "output_type": "stream",
     "text": [
      "591f578c51d34600116a8ea5 : 2024-01-16T13:00:00.000Z : PM 2.5 value (6.49) is ok\n",
      "591f578c51d34600116a8ea5 : 2024-01-17T14:00:00.000Z : PM 2.5 value (9.89) is ok\n",
      "591f578c51d34600116a8ea5 : 2024-01-18T15:00:00.000Z : PM 2.5 value (10.08) is ok\n",
      "591f578c51d34600116a8ea5 : 2024-01-19T16:00:00.000Z : PM 2.5 value (16.39) is ok\n",
      "591f578c51d34600116a8ea5 : 2024-01-20T17:00:00.000Z : PM 2.5 value (5.12) is ok\n",
      "591f578c51d34600116a8ea5 : 2024-01-21T18:00:00.000Z : PM 2.5 value (31.15) is ok\n",
      "591f578c51d34600116a8ea5 : 2024-01-22T19:00:00.000Z : !!! WARNING !!! PM 2.5 three-day average (20.69) exceeds critical value\n",
      "59ad958fd67eb50011b85f6d : 2024-01-16T13:00:00.000Z : PM 2.5 value (6.32) is ok\n",
      "59ad958fd67eb50011b85f6d : 2024-01-17T14:00:00.000Z : PM 2.5 value (6.89) is ok\n",
      "59ad958fd67eb50011b85f6d : 2024-01-18T15:00:00.000Z : PM 2.5 value (5.79) is ok\n",
      "59ad958fd67eb50011b85f6d : 2024-01-19T16:00:00.000Z : PM 2.5 value (6.45) is ok\n",
      "59ad958fd67eb50011b85f6d : 2024-01-20T17:00:00.000Z : PM 2.5 value (6.22) is ok\n",
      "59ad958fd67eb50011b85f6d : 2024-01-21T18:00:00.000Z : PM 2.5 value (6.88) is ok\n",
      "59ad958fd67eb50011b85f6d : 2024-01-22T19:00:00.000Z : PM 2.5 value (5.2) is ok\n",
      "5a0c347b9fd3c2001111b701 : 2024-01-16T13:00:00.000Z : PM 2.5 value (7.29) is ok\n",
      "5a0c347b9fd3c2001111b701 : 2024-01-17T14:00:00.000Z : PM 2.5 value (13.84) is ok\n",
      "5a0c347b9fd3c2001111b701 : 2024-01-18T15:00:00.000Z : PM 2.5 value (13.6) is ok\n",
      "5a0c347b9fd3c2001111b701 : 2024-01-19T16:00:00.000Z : PM 2.5 value (21.34) is ok\n",
      "5a0c347b9fd3c2001111b701 : 2024-01-20T17:00:00.000Z : PM 2.5 value (5.41) is ok\n",
      "5a0c347b9fd3c2001111b701 : 2024-01-21T18:00:00.000Z : PM 2.5 value (3.84) is ok\n",
      "5a0c347b9fd3c2001111b701 : 2024-01-22T19:00:00.000Z : PM 2.5 value (4.37) is ok\n",
      "5abd221b850005001b1aff35 : 2024-01-16T13:00:00.000Z : !!! WARNING !!! PM 2.5 three-day average (46.33) exceeds critical value\n",
      "5abd221b850005001b1aff35 : 2024-01-17T14:00:00.000Z : !!! WARNING !!! PM 2.5 three-day average (46.22) exceeds critical value\n",
      "5abd221b850005001b1aff35 : 2024-01-18T15:00:00.000Z : !!! WARNING !!! PM 2.5 three-day average (46.3) exceeds critical value\n",
      "5abd221b850005001b1aff35 : 2024-01-19T16:00:00.000Z : !!! WARNING !!! PM 2.5 three-day average (46.39) exceeds critical value\n",
      "5abd221b850005001b1aff35 : 2024-01-20T17:00:00.000Z : !!! WARNING !!! PM 2.5 three-day average (46.44) exceeds critical value\n",
      "5abd221b850005001b1aff35 : 2024-01-21T18:00:00.000Z : !!! WARNING !!! PM 2.5 three-day average (46.53) exceeds critical value\n",
      "5abd221b850005001b1aff35 : 2024-01-22T19:00:00.000Z : !!! WARNING !!! PM 2.5 three-day average (46.91) exceeds critical value\n",
      "5acfae2a223bd8001977b61e : 2024-01-16T13:00:00.000Z : PM 2.5 value (7.2) is ok\n",
      "5acfae2a223bd8001977b61e : 2024-01-17T14:00:00.000Z : PM 2.5 value (12.9) is ok\n",
      "5acfae2a223bd8001977b61e : 2024-01-18T15:00:00.000Z : PM 2.5 value (9.87) is ok\n",
      "5acfae2a223bd8001977b61e : 2024-01-19T16:00:00.000Z : PM 2.5 value (20.39) is ok\n",
      "5acfae2a223bd8001977b61e : 2024-01-20T17:00:00.000Z : PM 2.5 value (5.11) is ok\n",
      "5acfae2a223bd8001977b61e : 2024-01-21T18:00:00.000Z : PM 2.5 value (3.47) is ok\n",
      "5acfae2a223bd8001977b61e : 2024-01-22T19:00:00.000Z : PM 2.5 value (4.24) is ok\n",
      "5b3e7f6f5dc1ec001be11cf1 : 2024-01-16T13:00:00.000Z : PM 2.5 value (9.94) is ok\n",
      "5b3e7f6f5dc1ec001be11cf1 : 2024-01-17T14:00:00.000Z : PM 2.5 value (16.77) is ok\n",
      "5b3e7f6f5dc1ec001be11cf1 : 2024-01-18T15:00:00.000Z : PM 2.5 value (14.78) is ok\n",
      "5b3e7f6f5dc1ec001be11cf1 : 2024-01-19T16:00:00.000Z : !!! WARNING !!! PM 2.5 three-day average (21.32) exceeds critical value\n",
      "5b3e7f6f5dc1ec001be11cf1 : 2024-01-20T17:00:00.000Z : PM 2.5 value (5.46) is ok\n",
      "5b3e7f6f5dc1ec001be11cf1 : 2024-01-21T18:00:00.000Z : PM 2.5 value (2.78) is ok\n",
      "5b3e7f6f5dc1ec001be11cf1 : 2024-01-22T19:00:00.000Z : PM 2.5 value (4.99) is ok\n",
      "5d6e465a953683001a2b62c5 : 2024-01-16T13:00:00.000Z : PM 2.5 value (3.42) is ok\n",
      "5d6e465a953683001a2b62c5 : 2024-01-17T14:00:00.000Z : PM 2.5 value (7.46) is ok\n",
      "5d6e465a953683001a2b62c5 : 2024-01-18T15:00:00.000Z : PM 2.5 value (4.29) is ok\n",
      "5d6e465a953683001a2b62c5 : 2024-01-19T16:00:00.000Z : PM 2.5 value (3.99) is ok\n",
      "5d6e465a953683001a2b62c5 : 2024-01-20T17:00:00.000Z : PM 2.5 value (3.15) is ok\n",
      "5d6e465a953683001a2b62c5 : 2024-01-21T18:00:00.000Z : PM 2.5 value (1.53) is ok\n",
      "5d6e465a953683001a2b62c5 : 2024-01-22T19:00:00.000Z : PM 2.5 value (1.37) is ok\n",
      "5d91f4bb5f3de0001ab6bb78 : 2024-01-16T13:00:00.000Z : PM 2.5 value (2.93) is ok\n",
      "5d91f4bb5f3de0001ab6bb78 : 2024-01-17T14:00:00.000Z : PM 2.5 value (4.52) is ok\n",
      "5d91f4bb5f3de0001ab6bb78 : 2024-01-18T15:00:00.000Z : PM 2.5 value (4.09) is ok\n",
      "5d91f4bb5f3de0001ab6bb78 : 2024-01-19T16:00:00.000Z : PM 2.5 value (7.5) is ok\n",
      "5d91f4bb5f3de0001ab6bb78 : 2024-01-20T17:00:00.000Z : PM 2.5 value (2.27) is ok\n",
      "5d91f4bb5f3de0001ab6bb78 : 2024-01-21T18:00:00.000Z : PM 2.5 value (1.69) is ok\n",
      "5d91f4bb5f3de0001ab6bb78 : 2024-01-22T19:00:00.000Z : PM 2.5 value (2.28) is ok\n",
      "5e98843845f937001cf26c6d : 2024-01-17T14:00:00.000Z : PM 2.5 value (25.92) is ok\n",
      "5e98843845f937001cf26c6d : 2024-01-18T15:00:00.000Z : PM 2.5 value (18.77) is ok\n",
      "5f4542b8badf01001bd5cf24 : 2024-01-16T13:00:00.000Z : PM 2.5 value (5.59) is ok\n",
      "5f4542b8badf01001bd5cf24 : 2024-01-17T14:00:00.000Z : PM 2.5 value (10.79) is ok\n",
      "5f4542b8badf01001bd5cf24 : 2024-01-18T15:00:00.000Z : PM 2.5 value (9.7) is ok\n",
      "5f4542b8badf01001bd5cf24 : 2024-01-19T16:00:00.000Z : PM 2.5 value (14.2) is ok\n",
      "5f4542b8badf01001bd5cf24 : 2024-01-20T17:00:00.000Z : PM 2.5 value (3.73) is ok\n",
      "5f4542b8badf01001bd5cf24 : 2024-01-21T18:00:00.000Z : PM 2.5 value (2.81) is ok\n",
      "5f4542b8badf01001bd5cf24 : 2024-01-22T19:00:00.000Z : PM 2.5 value (3.23) is ok\n"
     ]
    }
   ],
   "source": [
    "try:\n",
    "\n",
    "    ## Ifinite loop which breaks if no message is received for more than **10 seconds**\n",
    "    \n",
    "    while running:\n",
    "\n",
    "        msg = consumer.poll(timeout=10) # wait 10 seconds before exit. If no messages are received for 10 seconds, consuming will stop \n",
    "        \n",
    "        if msg is None:\n",
    "            break # if no messsages are received, exit this loop\n",
    "            \n",
    "        if msg.error():\n",
    "\n",
    "            ## handle different errors that can come up (specific to kafka)\n",
    "\n",
    "            if msg.error().code() == KafkaError._PARTITION_EOF:\n",
    "                # End of partition event\n",
    "                sys.stderr.write('%% %s [%d] reached end at offset %d\\n' %\n",
    "                                    (msg.topic(), msg.partition(), msg.offset()))\n",
    "                \n",
    "            elif msg.error().code() == KafkaError.UNKNOWN_TOPIC_OR_PART:\n",
    "                sys.stderr.write('Topic unknown, creating %s topic\\n' %\n",
    "                                    (topic))\n",
    "            elif msg.error():\n",
    "                raise KafkaException(msg.error())\n",
    "                \n",
    "        else:\n",
    "            \n",
    "            ## This block is executed when everything is working fine and a message was successfully received\n",
    "\n",
    "            ## Load the message in JSON format or dictionary format\n",
    "            input = json.loads(msg.value())\n",
    "                        \n",
    "            \n",
    "            ## The actual PM 2.5 value is the \"key\" of the above dictionary\n",
    "            key = list(input.keys())[0]\n",
    "            \n",
    "            ## Create a temporary dictionary with received values for each data point. Dict to Pandas conversion is easier\n",
    "            ## Each of these dicts are appended to the pandas dataframe as a row\n",
    "\n",
    "            stream = {\n",
    "                'lat': input[key][0],  # latitude of the sensor\n",
    "                'lon': input[key][1],  # longitude of the sensor\n",
    "                'day': input[key][2],  # day of the value recording\n",
    "                'value':  float(key),  # PM 2.5 Value\n",
    "                'boxId': input[key][3] # Sensebox ID\n",
    "            }\n",
    "\n",
    "                    \n",
    "            ## Append the above dict to a pandas table\n",
    "            stream_df = pd.DataFrame([stream])\n",
    "            df = pd.concat([df, stream_df], ignore_index=True)\n",
    "            \n",
    "            ### EVENT NOTIFICATION SECTION: START ###\n",
    "            \n",
    "            event_filter(df)\n",
    "            \n",
    "            ### EVENT NOTIFICATION SECTION: END ###\n",
    "            \n",
    "        ## Commit enables processing of a message only once, meaning drops any duplicates, however, you may lose messages that\n",
    "        ## were not sent for some failure and will not be re-tried. Removing this command is possible but will require further\n",
    "        ## changes to this script to perform manual de-duplication\n",
    "        consumer.commit()\n",
    "\n",
    "except KeyboardInterrupt:\n",
    "    pass\n",
    "\n",
    "finally:\n",
    "    consumer.close()\n",
    "    \n",
    "    ## Note: Re-running this cell will note pull the data again as it is already pulled and the consumer is closed. You should\n",
    "    ## re-run the 'sendStream.py' file to send the data again and then restart this notebook"
   ]
  },
  {
   "cell_type": "code",
   "execution_count": 7,
   "metadata": {},
   "outputs": [
    {
     "data": {
      "text/html": [
       "<div>\n",
       "<style scoped>\n",
       "    .dataframe tbody tr th:only-of-type {\n",
       "        vertical-align: middle;\n",
       "    }\n",
       "\n",
       "    .dataframe tbody tr th {\n",
       "        vertical-align: top;\n",
       "    }\n",
       "\n",
       "    .dataframe thead th {\n",
       "        text-align: right;\n",
       "    }\n",
       "</style>\n",
       "<table border=\"1\" class=\"dataframe\">\n",
       "  <thead>\n",
       "    <tr style=\"text-align: right;\">\n",
       "      <th></th>\n",
       "      <th>lat</th>\n",
       "      <th>lon</th>\n",
       "      <th>day</th>\n",
       "      <th>value</th>\n",
       "      <th>boxId</th>\n",
       "    </tr>\n",
       "  </thead>\n",
       "  <tbody>\n",
       "    <tr>\n",
       "      <th>0</th>\n",
       "      <td>51.96422</td>\n",
       "      <td>7.645218</td>\n",
       "      <td>2024-01-14T11:00:00.000Z</td>\n",
       "      <td>11.232186</td>\n",
       "      <td>591f578c51d34600116a8ea5</td>\n",
       "    </tr>\n",
       "    <tr>\n",
       "      <th>1</th>\n",
       "      <td>51.96422</td>\n",
       "      <td>7.645218</td>\n",
       "      <td>2024-01-15T12:00:00.000Z</td>\n",
       "      <td>4.779400</td>\n",
       "      <td>591f578c51d34600116a8ea5</td>\n",
       "    </tr>\n",
       "    <tr>\n",
       "      <th>2</th>\n",
       "      <td>51.96422</td>\n",
       "      <td>7.645218</td>\n",
       "      <td>2024-01-16T13:00:00.000Z</td>\n",
       "      <td>6.492572</td>\n",
       "      <td>591f578c51d34600116a8ea5</td>\n",
       "    </tr>\n",
       "    <tr>\n",
       "      <th>3</th>\n",
       "      <td>51.96422</td>\n",
       "      <td>7.645218</td>\n",
       "      <td>2024-01-17T14:00:00.000Z</td>\n",
       "      <td>9.893489</td>\n",
       "      <td>591f578c51d34600116a8ea5</td>\n",
       "    </tr>\n",
       "    <tr>\n",
       "      <th>4</th>\n",
       "      <td>51.96422</td>\n",
       "      <td>7.645218</td>\n",
       "      <td>2024-01-18T15:00:00.000Z</td>\n",
       "      <td>10.077617</td>\n",
       "      <td>591f578c51d34600116a8ea5</td>\n",
       "    </tr>\n",
       "  </tbody>\n",
       "</table>\n",
       "</div>"
      ],
      "text/plain": [
       "        lat       lon                       day      value  \\\n",
       "0  51.96422  7.645218  2024-01-14T11:00:00.000Z  11.232186   \n",
       "1  51.96422  7.645218  2024-01-15T12:00:00.000Z   4.779400   \n",
       "2  51.96422  7.645218  2024-01-16T13:00:00.000Z   6.492572   \n",
       "3  51.96422  7.645218  2024-01-17T14:00:00.000Z   9.893489   \n",
       "4  51.96422  7.645218  2024-01-18T15:00:00.000Z  10.077617   \n",
       "\n",
       "                      boxId  \n",
       "0  591f578c51d34600116a8ea5  \n",
       "1  591f578c51d34600116a8ea5  \n",
       "2  591f578c51d34600116a8ea5  \n",
       "3  591f578c51d34600116a8ea5  \n",
       "4  591f578c51d34600116a8ea5  "
      ]
     },
     "execution_count": 7,
     "metadata": {},
     "output_type": "execute_result"
    }
   ],
   "source": [
    "## Read the output of the streamed file\n",
    "df.head()"
   ]
  },
  {
   "cell_type": "markdown",
   "metadata": {},
   "source": [
    "In the above dataframe, we have data for three different days for each of the **n** locations"
   ]
  },
  {
   "cell_type": "code",
   "execution_count": 8,
   "metadata": {},
   "outputs": [
    {
     "data": {
      "text/plain": [
       "day\n",
       "2024-01-15T12:00:00.000Z    10\n",
       "2024-01-16T13:00:00.000Z    10\n",
       "2024-01-17T14:00:00.000Z    10\n",
       "2024-01-18T15:00:00.000Z    10\n",
       "2024-01-14T11:00:00.000Z     9\n",
       "2024-01-19T16:00:00.000Z     9\n",
       "2024-01-20T17:00:00.000Z     9\n",
       "2024-01-21T18:00:00.000Z     9\n",
       "2024-01-22T19:00:00.000Z     9\n",
       "Name: count, dtype: int64"
      ]
     },
     "execution_count": 8,
     "metadata": {},
     "output_type": "execute_result"
    }
   ],
   "source": [
    "## Check how many values are present for each day\n",
    "df['day'].value_counts()"
   ]
  },
  {
   "cell_type": "code",
   "execution_count": 9,
   "metadata": {},
   "outputs": [
    {
     "data": {
      "text/html": [
       "<div>\n",
       "<style scoped>\n",
       "    .dataframe tbody tr th:only-of-type {\n",
       "        vertical-align: middle;\n",
       "    }\n",
       "\n",
       "    .dataframe tbody tr th {\n",
       "        vertical-align: top;\n",
       "    }\n",
       "\n",
       "    .dataframe thead th {\n",
       "        text-align: right;\n",
       "    }\n",
       "</style>\n",
       "<table border=\"1\" class=\"dataframe\">\n",
       "  <thead>\n",
       "    <tr style=\"text-align: right;\">\n",
       "      <th></th>\n",
       "      <th>day</th>\n",
       "      <th>value</th>\n",
       "      <th>boxId</th>\n",
       "      <th>geometry</th>\n",
       "    </tr>\n",
       "  </thead>\n",
       "  <tbody>\n",
       "    <tr>\n",
       "      <th>0</th>\n",
       "      <td>2024-01-14T11:00:00.000Z</td>\n",
       "      <td>11.232186</td>\n",
       "      <td>591f578c51d34600116a8ea5</td>\n",
       "      <td>POINT (7.64522 51.96422)</td>\n",
       "    </tr>\n",
       "    <tr>\n",
       "      <th>1</th>\n",
       "      <td>2024-01-15T12:00:00.000Z</td>\n",
       "      <td>4.779400</td>\n",
       "      <td>591f578c51d34600116a8ea5</td>\n",
       "      <td>POINT (7.64522 51.96422)</td>\n",
       "    </tr>\n",
       "    <tr>\n",
       "      <th>2</th>\n",
       "      <td>2024-01-16T13:00:00.000Z</td>\n",
       "      <td>6.492572</td>\n",
       "      <td>591f578c51d34600116a8ea5</td>\n",
       "      <td>POINT (7.64522 51.96422)</td>\n",
       "    </tr>\n",
       "    <tr>\n",
       "      <th>3</th>\n",
       "      <td>2024-01-17T14:00:00.000Z</td>\n",
       "      <td>9.893489</td>\n",
       "      <td>591f578c51d34600116a8ea5</td>\n",
       "      <td>POINT (7.64522 51.96422)</td>\n",
       "    </tr>\n",
       "    <tr>\n",
       "      <th>4</th>\n",
       "      <td>2024-01-18T15:00:00.000Z</td>\n",
       "      <td>10.077617</td>\n",
       "      <td>591f578c51d34600116a8ea5</td>\n",
       "      <td>POINT (7.64522 51.96422)</td>\n",
       "    </tr>\n",
       "  </tbody>\n",
       "</table>\n",
       "</div>"
      ],
      "text/plain": [
       "                        day      value                     boxId  \\\n",
       "0  2024-01-14T11:00:00.000Z  11.232186  591f578c51d34600116a8ea5   \n",
       "1  2024-01-15T12:00:00.000Z   4.779400  591f578c51d34600116a8ea5   \n",
       "2  2024-01-16T13:00:00.000Z   6.492572  591f578c51d34600116a8ea5   \n",
       "3  2024-01-17T14:00:00.000Z   9.893489  591f578c51d34600116a8ea5   \n",
       "4  2024-01-18T15:00:00.000Z  10.077617  591f578c51d34600116a8ea5   \n",
       "\n",
       "                   geometry  \n",
       "0  POINT (7.64522 51.96422)  \n",
       "1  POINT (7.64522 51.96422)  \n",
       "2  POINT (7.64522 51.96422)  \n",
       "3  POINT (7.64522 51.96422)  \n",
       "4  POINT (7.64522 51.96422)  "
      ]
     },
     "execution_count": 9,
     "metadata": {},
     "output_type": "execute_result"
    }
   ],
   "source": [
    "# Convert Pandas to GeoPandas\n",
    "gdf = gpd.GeoDataFrame(df, geometry=gpd.points_from_xy(df.lon, df.lat))\n",
    "gdf.set_crs(epsg=4326, inplace=True, allow_override=True)\n",
    "gdf.drop(['lon','lat'], axis=1, inplace=True)\n",
    "gdf.head()"
   ]
  },
  {
   "cell_type": "markdown",
   "metadata": {},
   "source": [
    "## 3.4.3 Monitoring the Status of Sensors\n",
    "\n",
    "In this section, we will create a map of the SenseBoxes that provides information about the location and current status of the sensors:\n",
    "\n",
    "- Green: SenseBoxes that are live/returned values on the last date \n",
    "- Gray: SenseBoxes that are down/did not return values for the last date\n"
   ]
  },
  {
   "cell_type": "code",
   "execution_count": 10,
   "metadata": {},
   "outputs": [],
   "source": [
    "## Define Icons for SenseBoxes\n",
    "\n",
    "icon_active = AwesomeIcon(\n",
    "    name='map-marker',\n",
    "    marker_color='green',\n",
    "    icon_color='green',\n",
    "    spin=False\n",
    ")\n",
    "\n",
    "icon_inactive = AwesomeIcon(\n",
    "    name='map-marker',\n",
    "    marker_color='gray',\n",
    "    icon_color='gray',\n",
    "    spin=False\n",
    ")"
   ]
  },
  {
   "cell_type": "code",
   "execution_count": 11,
   "metadata": {},
   "outputs": [],
   "source": [
    "gdf['valid'] = gdf['value'].apply(lambda x: False if math.isnan(x) == True else True)"
   ]
  },
  {
   "cell_type": "code",
   "execution_count": 12,
   "metadata": {},
   "outputs": [],
   "source": [
    "## Get most recent date\n",
    "\n",
    "valid_boxes = gdf[gdf['valid'] == True]\n",
    "recent_date = valid_boxes['day'].max()"
   ]
  },
  {
   "cell_type": "code",
   "execution_count": 13,
   "metadata": {},
   "outputs": [
    {
     "data": {
      "text/html": [
       "<div>\n",
       "<style scoped>\n",
       "    .dataframe tbody tr th:only-of-type {\n",
       "        vertical-align: middle;\n",
       "    }\n",
       "\n",
       "    .dataframe tbody tr th {\n",
       "        vertical-align: top;\n",
       "    }\n",
       "\n",
       "    .dataframe thead th {\n",
       "        text-align: right;\n",
       "    }\n",
       "</style>\n",
       "<table border=\"1\" class=\"dataframe\">\n",
       "  <thead>\n",
       "    <tr style=\"text-align: right;\">\n",
       "      <th></th>\n",
       "      <th>geometry</th>\n",
       "      <th>status</th>\n",
       "    </tr>\n",
       "  </thead>\n",
       "  <tbody>\n",
       "    <tr>\n",
       "      <th>8</th>\n",
       "      <td>POINT (7.64522 51.96422)</td>\n",
       "      <td>active</td>\n",
       "    </tr>\n",
       "    <tr>\n",
       "      <th>17</th>\n",
       "      <td>POINT (7.63528 51.90300)</td>\n",
       "      <td>active</td>\n",
       "    </tr>\n",
       "    <tr>\n",
       "      <th>26</th>\n",
       "      <td>POINT (7.62061 51.92106)</td>\n",
       "      <td>active</td>\n",
       "    </tr>\n",
       "    <tr>\n",
       "      <th>35</th>\n",
       "      <td>POINT (7.64153 51.97302)</td>\n",
       "      <td>active</td>\n",
       "    </tr>\n",
       "    <tr>\n",
       "      <th>44</th>\n",
       "      <td>POINT (7.64668 51.98850)</td>\n",
       "      <td>active</td>\n",
       "    </tr>\n",
       "    <tr>\n",
       "      <th>53</th>\n",
       "      <td>POINT (7.56908 51.99415)</td>\n",
       "      <td>active</td>\n",
       "    </tr>\n",
       "    <tr>\n",
       "      <th>62</th>\n",
       "      <td>POINT (13.36913 52.52015)</td>\n",
       "      <td>active</td>\n",
       "    </tr>\n",
       "    <tr>\n",
       "      <th>71</th>\n",
       "      <td>POINT (7.63194 51.95434)</td>\n",
       "      <td>active</td>\n",
       "    </tr>\n",
       "    <tr>\n",
       "      <th>84</th>\n",
       "      <td>POINT (7.72341 51.91065)</td>\n",
       "      <td>active</td>\n",
       "    </tr>\n",
       "  </tbody>\n",
       "</table>\n",
       "</div>"
      ],
      "text/plain": [
       "                     geometry  status\n",
       "8    POINT (7.64522 51.96422)  active\n",
       "17   POINT (7.63528 51.90300)  active\n",
       "26   POINT (7.62061 51.92106)  active\n",
       "35   POINT (7.64153 51.97302)  active\n",
       "44   POINT (7.64668 51.98850)  active\n",
       "53   POINT (7.56908 51.99415)  active\n",
       "62  POINT (13.36913 52.52015)  active\n",
       "71   POINT (7.63194 51.95434)  active\n",
       "84   POINT (7.72341 51.91065)  active"
      ]
     },
     "execution_count": 13,
     "metadata": {},
     "output_type": "execute_result"
    }
   ],
   "source": [
    "active_boxes = gdf[gdf['day'] == recent_date][['boxId','geometry']]\n",
    "active_boxes.drop_duplicates(subset=['boxId'], inplace=True)\n",
    "active_boxes = active_boxes[['geometry']]\n",
    "active_boxes['status'] = 'active'\n",
    "active_boxes"
   ]
  },
  {
   "cell_type": "code",
   "execution_count": 14,
   "metadata": {},
   "outputs": [
    {
     "data": {
      "text/html": [
       "<div>\n",
       "<style scoped>\n",
       "    .dataframe tbody tr th:only-of-type {\n",
       "        vertical-align: middle;\n",
       "    }\n",
       "\n",
       "    .dataframe tbody tr th {\n",
       "        vertical-align: top;\n",
       "    }\n",
       "\n",
       "    .dataframe thead th {\n",
       "        text-align: right;\n",
       "    }\n",
       "</style>\n",
       "<table border=\"1\" class=\"dataframe\">\n",
       "  <thead>\n",
       "    <tr style=\"text-align: right;\">\n",
       "      <th></th>\n",
       "      <th>geometry</th>\n",
       "      <th>status</th>\n",
       "    </tr>\n",
       "  </thead>\n",
       "  <tbody>\n",
       "  </tbody>\n",
       "</table>\n",
       "</div>"
      ],
      "text/plain": [
       "Empty GeoDataFrame\n",
       "Columns: [geometry, status]\n",
       "Index: []"
      ]
     },
     "execution_count": 14,
     "metadata": {},
     "output_type": "execute_result"
    }
   ],
   "source": [
    "inactive_boxes = gdf[gdf['valid'] == False].drop_duplicates(subset=['geometry'])[['geometry']]\n",
    "inactive_boxes['status'] = 'inactive'\n",
    "inactive_boxes"
   ]
  },
  {
   "cell_type": "markdown",
   "metadata": {},
   "source": [
    "Setup marker icons to display the inactive and active sensors separately"
   ]
  },
  {
   "cell_type": "code",
   "execution_count": 15,
   "metadata": {},
   "outputs": [],
   "source": [
    "## Create a cluster of active senseboxes as points\n",
    "\n",
    "active_markers = []\n",
    "for coords in active_boxes['geometry']:\n",
    "    \n",
    "    active_markers.append(\n",
    "        Marker(location=(coords.y, coords.x), icon=icon_active, draggable=False)\n",
    "    )\n",
    "\n",
    "## Create a cluster of inactive senseboxes as points\n",
    "\n",
    "inactive_markers = []\n",
    "for coords in inactive_boxes['geometry']:\n",
    "    \n",
    "    inactive_markers.append(\n",
    "        Marker(location=(coords.y, coords.x), icon=icon_inactive, draggable=False)\n",
    "    )\n"
   ]
  },
  {
   "cell_type": "code",
   "execution_count": 16,
   "metadata": {},
   "outputs": [
    {
     "data": {
      "application/vnd.jupyter.widget-view+json": {
       "model_id": "bee92dc40c6f49c7ad95930fd97e48b8",
       "version_major": 2,
       "version_minor": 0
      },
      "text/plain": [
       "Map(center=[51.9500023, 7.6240147], controls=(ZoomControl(options=['position', 'zoom_in_text', 'zoom_in_title'…"
      ]
     },
     "metadata": {},
     "output_type": "display_data"
    }
   ],
   "source": [
    "lat = 51.9500023\n",
    "lng = 7.6240147\n",
    "\n",
    "center = (lat, lng)\n",
    "\n",
    "m = Map(center=center, zoom=11)\n",
    "\n",
    "active_boxes_cluster = MarkerCluster(\n",
    "    markers=tuple(active_markers)\n",
    ")\n",
    "\n",
    "inactive_boxes_cluster = MarkerCluster(\n",
    "    markers=tuple(inactive_markers)\n",
    ")\n",
    "\n",
    "m.add_layer(active_boxes_cluster)\n",
    "m.add_layer(inactive_boxes_cluster)\n",
    "\n",
    "display(m)"
   ]
  },
  {
   "cell_type": "markdown",
   "metadata": {},
   "source": [
    "This marks the end of our Kafka Streaming workflow. You should now be able to see a MAP of all senseboxes locations that are active/inactive\n",
    "\n",
    "#### END OF TUTORIAL\n"
   ]
  }
 ],
 "metadata": {
  "kernelspec": {
   "display_name": "Python 3 (ipykernel)",
   "language": "python",
   "name": "python3"
  },
  "language_info": {
   "codemirror_mode": {
    "name": "ipython",
    "version": 3
   },
   "file_extension": ".py",
   "mimetype": "text/x-python",
   "name": "python",
   "nbconvert_exporter": "python",
   "pygments_lexer": "ipython3",
   "version": "3.9.5"
  },
  "vscode": {
   "interpreter": {
    "hash": "1b514d23d219a1c0c56ce19fb0e1163f57dbee9d687be3151065536fbd420593"
   }
  }
 },
 "nbformat": 4,
 "nbformat_minor": 4
}
